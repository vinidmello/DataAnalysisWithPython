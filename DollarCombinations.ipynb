{
 "cells": [
  {
   "cell_type": "markdown",
   "id": "0aa8a2cf",
   "metadata": {},
   "source": [
    "**Dollar Amount Combinations**"
   ]
  },
  {
   "cell_type": "code",
   "execution_count": 16,
   "id": "338dc0ca",
   "metadata": {},
   "outputs": [],
   "source": [
    "def find_combinations(sum):\n",
    "    combinations = []\n",
    "    for amount_100 in range (0,sum+1,100):\n",
    "        for amount_50 in range (0,sum+1,50):\n",
    "            for amount_25 in range (0,sum+1,25):\n",
    "                for amount_10 in range (0,sum+1,10):\n",
    "                    for amount_5 in range (0,sum+1,5):\n",
    "                        total = amount_100 + amount_50 + amount_25 + amount_10 + amount_5\n",
    "                        \n",
    "                        if total <= sum:\n",
    "                            combinations.append([amount_100 , amount_50 , amount_25 , amount_10 , amount_5, sum - total])\n",
    "                            \n",
    "    return combinations"
   ]
  },
  {
   "cell_type": "code",
   "execution_count": 17,
   "id": "efd1a842",
   "metadata": {},
   "outputs": [
    {
     "data": {
      "text/plain": [
       "293"
      ]
     },
     "execution_count": 17,
     "metadata": {},
     "output_type": "execute_result"
    }
   ],
   "source": [
    "len(find_combinations(100))"
   ]
  },
  {
   "cell_type": "code",
   "execution_count": 18,
   "id": "b09bd3e1",
   "metadata": {},
   "outputs": [
    {
     "data": {
      "text/plain": [
       "2728"
      ]
     },
     "execution_count": 18,
     "metadata": {},
     "output_type": "execute_result"
    }
   ],
   "source": [
    "len(find_combinations(200))"
   ]
  },
  {
   "cell_type": "code",
   "execution_count": 19,
   "id": "bb2454a1",
   "metadata": {},
   "outputs": [
    {
     "data": {
      "text/plain": [
       "2103596"
      ]
     },
     "execution_count": 19,
     "metadata": {},
     "output_type": "execute_result"
    }
   ],
   "source": [
    "len(find_combinations(1000))"
   ]
  },
  {
   "cell_type": "code",
   "execution_count": 21,
   "id": "aa18979d",
   "metadata": {},
   "outputs": [
    {
     "data": {
      "text/plain": [
       "53995291"
      ]
     },
     "execution_count": 21,
     "metadata": {},
     "output_type": "execute_result"
    }
   ],
   "source": [
    "len(find_combinations(2000))"
   ]
  },
  {
   "cell_type": "markdown",
   "id": "f011e816",
   "metadata": {},
   "source": [
    "**Plotting Length of find_combinations with a Range of Totals**"
   ]
  },
  {
   "cell_type": "code",
   "execution_count": 23,
   "id": "f15fa0bc",
   "metadata": {},
   "outputs": [],
   "source": [
    "total_range = range(100,1000,100)\n",
    "length = [len(find_combinations(sum)) for sum in total_range]"
   ]
  },
  {
   "cell_type": "code",
   "execution_count": 25,
   "id": "d9ba4525",
   "metadata": {},
   "outputs": [
    {
     "data": {
      "text/plain": [
       "Text(0, 0.5, 'find_combinations')"
      ]
     },
     "execution_count": 25,
     "metadata": {},
     "output_type": "execute_result"
    },
    {
     "data": {
      "image/png": "[encoded data removed]",
      "text/plain": [
       "<Figure size 432x288 with 1 Axes>"
      ]
     },
     "metadata": {
      "needs_background": "light"
     },
     "output_type": "display_data"
    }
   ],
   "source": [
    "import matplotlib.pyplot as plt\n",
    "plt.plot(total_range,length)\n",
    "plt.xlabel('Range')\n",
    "plt.ylabel('find_combinations')\n"
   ]
  },
  {
   "cell_type": "code",
   "execution_count": null,
   "id": "6e349cc2",
   "metadata": {},
   "outputs": [],
   "source": []
  }
 ],
 "metadata": {
  "kernelspec": {
   "display_name": "Python 3",
   "language": "python",
   "name": "python3"
  },
  "language_info": {
   "codemirror_mode": {
    "name": "ipython",
    "version": 3
   },
   "file_extension": ".py",
   "mimetype": "text/x-python",
   "name": "python",
   "nbconvert_exporter": "python",
   "pygments_lexer": "ipython3",
   "version": "3.8.8"
  }
 },
 "nbformat": 4,
 "nbformat_minor": 5
}
